{
 "cells": [
  {
   "cell_type": "markdown",
   "metadata": {
    "id": "VKd_ZK5QfCd5"
   },
   "source": [
    "## 1. READ FILE & processing data"
   ]
  },
  {
   "cell_type": "code",
   "execution_count": 1,
   "metadata": {
    "id": "YFm5NggzHpkV"
   },
   "outputs": [
    {
     "data": {
      "text/html": [
       "<div>\n",
       "<style scoped>\n",
       "    .dataframe tbody tr th:only-of-type {\n",
       "        vertical-align: middle;\n",
       "    }\n",
       "\n",
       "    .dataframe tbody tr th {\n",
       "        vertical-align: top;\n",
       "    }\n",
       "\n",
       "    .dataframe thead th {\n",
       "        text-align: right;\n",
       "    }\n",
       "</style>\n",
       "<table border=\"1\" class=\"dataframe\">\n",
       "  <thead>\n",
       "    <tr style=\"text-align: right;\">\n",
       "      <th></th>\n",
       "      <th>SalePrice</th>\n",
       "      <th>location_street</th>\n",
       "      <th>location_ward</th>\n",
       "      <th>location_district</th>\n",
       "      <th>location_city</th>\n",
       "      <th>number_of_bedroom</th>\n",
       "      <th>number_of_toilet</th>\n",
       "      <th>access_to_school</th>\n",
       "      <th>access_to_hospital</th>\n",
       "      <th>access_to_market</th>\n",
       "      <th>...</th>\n",
       "      <th>is_having_rooftop</th>\n",
       "      <th>alley_width</th>\n",
       "      <th>status_house</th>\n",
       "      <th>length</th>\n",
       "      <th>width</th>\n",
       "      <th>Legal_documents</th>\n",
       "      <th>view</th>\n",
       "      <th>loc_lat</th>\n",
       "      <th>loc_long</th>\n",
       "      <th>distance_to_central</th>\n",
       "    </tr>\n",
       "  </thead>\n",
       "  <tbody>\n",
       "    <tr>\n",
       "      <th>0</th>\n",
       "      <td>3044.00000</td>\n",
       "      <td>Đường Lê Lai</td>\n",
       "      <td>Phường Bến Thành Quận 1</td>\n",
       "      <td>Quận 1</td>\n",
       "      <td>TP.HCM</td>\n",
       "      <td>54</td>\n",
       "      <td>54</td>\n",
       "      <td>1</td>\n",
       "      <td>1</td>\n",
       "      <td>1</td>\n",
       "      <td>...</td>\n",
       "      <td>1</td>\n",
       "      <td>15.0</td>\n",
       "      <td>Đang ở</td>\n",
       "      <td>20.00</td>\n",
       "      <td>8.20</td>\n",
       "      <td>Sổ hồng</td>\n",
       "      <td>Không xác định</td>\n",
       "      <td>10.770076</td>\n",
       "      <td>106.694042</td>\n",
       "      <td>0.514711</td>\n",
       "    </tr>\n",
       "    <tr>\n",
       "      <th>1</th>\n",
       "      <td>68031.84000</td>\n",
       "      <td>Đường Lê Trọng Tấn</td>\n",
       "      <td>Phường Bình Hưng Hòa Quận Bình Tân</td>\n",
       "      <td>Quận Bình Tân</td>\n",
       "      <td>TP.HCM</td>\n",
       "      <td>8</td>\n",
       "      <td>9</td>\n",
       "      <td>1</td>\n",
       "      <td>1</td>\n",
       "      <td>1</td>\n",
       "      <td>...</td>\n",
       "      <td>1</td>\n",
       "      <td>20.0</td>\n",
       "      <td>Để trống</td>\n",
       "      <td>52.30</td>\n",
       "      <td>8.00</td>\n",
       "      <td>Sổ hồng</td>\n",
       "      <td>Đông</td>\n",
       "      <td>10.813788</td>\n",
       "      <td>106.606332</td>\n",
       "      <td>11.276401</td>\n",
       "    </tr>\n",
       "    <tr>\n",
       "      <th>2</th>\n",
       "      <td>22160.06100</td>\n",
       "      <td>Đường Lô C Cư Xá Phú Lâm D</td>\n",
       "      <td>Phường 10 Quận 6</td>\n",
       "      <td>Quận 6</td>\n",
       "      <td>TP.HCM</td>\n",
       "      <td>21</td>\n",
       "      <td>21</td>\n",
       "      <td>0</td>\n",
       "      <td>0</td>\n",
       "      <td>0</td>\n",
       "      <td>...</td>\n",
       "      <td>0</td>\n",
       "      <td>10.0</td>\n",
       "      <td>Đang cho thuê</td>\n",
       "      <td>26.60</td>\n",
       "      <td>4.05</td>\n",
       "      <td>Sổ hồng</td>\n",
       "      <td>Tây Nam</td>\n",
       "      <td>10.737073</td>\n",
       "      <td>106.626365</td>\n",
       "      <td>8.881077</td>\n",
       "    </tr>\n",
       "    <tr>\n",
       "      <th>3</th>\n",
       "      <td>42668.84440</td>\n",
       "      <td>Đường Bạch Đằng</td>\n",
       "      <td>Phường 15 Quận Bình Thạnh</td>\n",
       "      <td>Quận Bình Thạnh</td>\n",
       "      <td>TP.HCM</td>\n",
       "      <td>7</td>\n",
       "      <td>8</td>\n",
       "      <td>0</td>\n",
       "      <td>0</td>\n",
       "      <td>1</td>\n",
       "      <td>...</td>\n",
       "      <td>1</td>\n",
       "      <td>15.0</td>\n",
       "      <td>Để trống</td>\n",
       "      <td>18.20</td>\n",
       "      <td>5.47</td>\n",
       "      <td>Sổ hồng</td>\n",
       "      <td>Bắc</td>\n",
       "      <td>10.796401</td>\n",
       "      <td>106.700330</td>\n",
       "      <td>2.785131</td>\n",
       "    </tr>\n",
       "    <tr>\n",
       "      <th>4</th>\n",
       "      <td>35430.20544</td>\n",
       "      <td>Đường Phạm Văn Bạch</td>\n",
       "      <td>Phường 15 Quận Tân Bình</td>\n",
       "      <td>Quận Tân Bình</td>\n",
       "      <td>TP.HCM</td>\n",
       "      <td>12</td>\n",
       "      <td>12</td>\n",
       "      <td>1</td>\n",
       "      <td>1</td>\n",
       "      <td>1</td>\n",
       "      <td>...</td>\n",
       "      <td>0</td>\n",
       "      <td>30.0</td>\n",
       "      <td>Để trống</td>\n",
       "      <td>30.72</td>\n",
       "      <td>5.11</td>\n",
       "      <td>Sổ hồng</td>\n",
       "      <td>Đông Nam</td>\n",
       "      <td>10.829271</td>\n",
       "      <td>106.641590</td>\n",
       "      <td>9.021097</td>\n",
       "    </tr>\n",
       "  </tbody>\n",
       "</table>\n",
       "<p>5 rows × 24 columns</p>\n",
       "</div>"
      ],
      "text/plain": [
       "     SalePrice             location_street  \\\n",
       "0   3044.00000                Đường Lê Lai   \n",
       "1  68031.84000          Đường Lê Trọng Tấn   \n",
       "2  22160.06100  Đường Lô C Cư Xá Phú Lâm D   \n",
       "3  42668.84440             Đường Bạch Đằng   \n",
       "4  35430.20544         Đường Phạm Văn Bạch   \n",
       "\n",
       "                        location_ward location_district location_city  \\\n",
       "0             Phường Bến Thành Quận 1            Quận 1        TP.HCM   \n",
       "1  Phường Bình Hưng Hòa Quận Bình Tân     Quận Bình Tân        TP.HCM   \n",
       "2                    Phường 10 Quận 6            Quận 6        TP.HCM   \n",
       "3           Phường 15 Quận Bình Thạnh   Quận Bình Thạnh        TP.HCM   \n",
       "4             Phường 15 Quận Tân Bình     Quận Tân Bình        TP.HCM   \n",
       "\n",
       "   number_of_bedroom  number_of_toilet  access_to_school  access_to_hospital  \\\n",
       "0                 54                54                 1                   1   \n",
       "1                  8                 9                 1                   1   \n",
       "2                 21                21                 0                   0   \n",
       "3                  7                 8                 0                   0   \n",
       "4                 12                12                 1                   1   \n",
       "\n",
       "   access_to_market  ...  is_having_rooftop  alley_width   status_house  \\\n",
       "0                 1  ...                  1         15.0         Đang ở   \n",
       "1                 1  ...                  1         20.0       Để trống   \n",
       "2                 0  ...                  0         10.0  Đang cho thuê   \n",
       "3                 1  ...                  1         15.0       Để trống   \n",
       "4                 1  ...                  0         30.0       Để trống   \n",
       "\n",
       "   length  width  Legal_documents            view    loc_lat    loc_long  \\\n",
       "0   20.00   8.20         Sổ hồng   Không xác định  10.770076  106.694042   \n",
       "1   52.30   8.00         Sổ hồng             Đông  10.813788  106.606332   \n",
       "2   26.60   4.05         Sổ hồng          Tây Nam  10.737073  106.626365   \n",
       "3   18.20   5.47         Sổ hồng              Bắc  10.796401  106.700330   \n",
       "4   30.72   5.11         Sổ hồng         Đông Nam  10.829271  106.641590   \n",
       "\n",
       "  distance_to_central  \n",
       "0            0.514711  \n",
       "1           11.276401  \n",
       "2            8.881077  \n",
       "3            2.785131  \n",
       "4            9.021097  \n",
       "\n",
       "[5 rows x 24 columns]"
      ]
     },
     "execution_count": 1,
     "metadata": {},
     "output_type": "execute_result"
    }
   ],
   "source": [
    "import pandas as pd\n",
    "import numpy as np\n",
    "df = pd.read_csv('https://raw.githubusercontent.com/HCMUS-KHDL-K30/KR/main/hcm_house_data.csv')\n",
    "df = df.drop(['price_1','price_2', 'avg_price_per_m2(mil)','avg_price_per_m2_desc', 'total_sqft_desc', 'floor_detail', 'type_of_house'], axis=1)\n",
    "df.head()"
   ]
  },
  {
   "cell_type": "markdown",
   "metadata": {
    "id": "tAC9vPyRhKva"
   },
   "source": [
    "## 1.1 Get info data"
   ]
  },
  {
   "cell_type": "code",
   "execution_count": 2,
   "metadata": {
    "colab": {
     "base_uri": "https://localhost:8080/"
    },
    "executionInfo": {
     "elapsed": 420,
     "status": "ok",
     "timestamp": 1625575715786,
     "user": {
      "displayName": "Tram Doan",
      "photoUrl": "https://lh3.googleusercontent.com/a-/AOh14Gj-HLMgk4ZuGKXq_dwJcXDDQiigSmex2Qk5Q95s9Q=s64",
      "userId": "05544505470562274171"
     },
     "user_tz": -420
    },
    "id": "4zuMVYuRXn0M",
    "outputId": "0554c817-3b2b-4e8c-d857-dd0ebd2f97db"
   },
   "outputs": [
    {
     "name": "stdout",
     "output_type": "stream",
     "text": [
      "<bound method DataFrame.info of          SalePrice             location_street  \\\n",
      "0       3044.00000                Đường Lê Lai   \n",
      "1      68031.84000          Đường Lê Trọng Tấn   \n",
      "2      22160.06100  Đường Lô C Cư Xá Phú Lâm D   \n",
      "3      42668.84440             Đường Bạch Đằng   \n",
      "4      35430.20544         Đường Phạm Văn Bạch   \n",
      "...            ...                         ...   \n",
      "27703   5083.12896         Đường Hoàng Hữu Nam   \n",
      "27704   1430.52930         Đường Bùi Minh Trực   \n",
      "27705   3025.52250                Đường Lê Lợi   \n",
      "27706   1392.99564         Đường Phạm Thế Hiển   \n",
      "27707   1622.57565      Đường Nguyễn Tất Thành   \n",
      "\n",
      "                            location_ward location_district location_city  \\\n",
      "0                 Phường Bến Thành Quận 1            Quận 1        TP.HCM   \n",
      "1      Phường Bình Hưng Hòa Quận Bình Tân     Quận Bình Tân        TP.HCM   \n",
      "2                        Phường 10 Quận 6            Quận 6        TP.HCM   \n",
      "3               Phường 15 Quận Bình Thạnh   Quận Bình Thạnh        TP.HCM   \n",
      "4                 Phường 15 Quận Tân Bình     Quận Tân Bình        TP.HCM   \n",
      "...                                   ...               ...           ...   \n",
      "27703         Phường Long Thạnh Mỹ Quận 9            Quận 9        TP.HCM   \n",
      "27704                     Phường 5 Quận 8            Quận 8        TP.HCM   \n",
      "27705                Phường 4 Quận Gò Vấp       Quận Gò Vấp        TP.HCM   \n",
      "27706                     Phường 7 Quận 8            Quận 8        TP.HCM   \n",
      "27707                    Phường 18 Quận 4            Quận 4        TP.HCM   \n",
      "\n",
      "       number_of_bedroom  number_of_toilet  access_to_school  \\\n",
      "0                     54                54                 1   \n",
      "1                      8                 9                 1   \n",
      "2                     21                21                 0   \n",
      "3                      7                 8                 0   \n",
      "4                     12                12                 1   \n",
      "...                  ...               ...               ...   \n",
      "27703                  1                 1                 1   \n",
      "27704                  1                 1                 1   \n",
      "27705                  4                 4                 1   \n",
      "27706                  1                 1                 1   \n",
      "27707                  3                 1                 1   \n",
      "\n",
      "       access_to_hospital  access_to_market  ...  is_having_rooftop  \\\n",
      "0                       1                 1  ...                  1   \n",
      "1                       1                 1  ...                  1   \n",
      "2                       0                 0  ...                  0   \n",
      "3                       0                 1  ...                  1   \n",
      "4                       1                 1  ...                  0   \n",
      "...                   ...               ...  ...                ...   \n",
      "27703                   1                 1  ...                  0   \n",
      "27704                   0                 1  ...                  0   \n",
      "27705                   0                 1  ...                  0   \n",
      "27706                   0                 1  ...                  0   \n",
      "27707                   0                 1  ...                  0   \n",
      "\n",
      "       alley_width   status_house  length  width  Legal_documents  \\\n",
      "0             15.0         Đang ở   20.00   8.20         Sổ hồng    \n",
      "1             20.0       Để trống   52.30   8.00         Sổ hồng    \n",
      "2             10.0  Đang cho thuê   26.60   4.05         Sổ hồng    \n",
      "3             15.0       Để trống   18.20   5.47         Sổ hồng    \n",
      "4             30.0       Để trống   30.72   5.11         Sổ hồng    \n",
      "...            ...            ...     ...    ...              ...   \n",
      "27703         12.0  Đang cho thuê   10.92   1.88         Sổ hồng    \n",
      "27704          1.0       Để trống   11.01   1.83         Sổ hồng    \n",
      "27705          4.5       Để trống   23.10   1.69         Sổ hồng    \n",
      "27706          4.0       Để trống   12.99   1.66         Sổ hồng    \n",
      "27707          3.0       Để trống   20.17   1.55         Sổ hồng    \n",
      "\n",
      "                 view    loc_lat    loc_long distance_to_central  \n",
      "0      Không xác định  10.770076  106.694042            0.514711  \n",
      "1                Đông  10.813788  106.606332           11.276401  \n",
      "2             Tây Nam  10.737073  106.626365            8.881077  \n",
      "3                 Bắc  10.796401  106.700330            2.785131  \n",
      "4            Đông Nam  10.829271  106.641590            9.021097  \n",
      "...               ...        ...         ...                 ...  \n",
      "27703            Tây   10.858170  106.813547           16.024215  \n",
      "27704         Tây Bắc  10.738651  106.659205            5.687121  \n",
      "27705         Tây Nam  10.822450  106.685568            5.852541  \n",
      "27706            Nam   10.707215  106.623262           10.995960  \n",
      "27707        Đông Bắc  10.759876  106.712924            2.057034  \n",
      "\n",
      "[27708 rows x 24 columns]>\n"
     ]
    }
   ],
   "source": [
    "# review data\n",
    "print(df.info)\n"
   ]
  },
  {
   "cell_type": "markdown",
   "metadata": {
    "id": "XHZkivKAhgoL"
   },
   "source": [
    "## 1.2 Prepare data"
   ]
  },
  {
   "cell_type": "markdown",
   "metadata": {
    "id": "Zk1HNngniC68"
   },
   "source": [
    "Change data type to code"
   ]
  },
  {
   "cell_type": "code",
   "execution_count": 3,
   "metadata": {
    "colab": {
     "base_uri": "https://localhost:8080/"
    },
    "executionInfo": {
     "elapsed": 383,
     "status": "ok",
     "timestamp": 1625576119976,
     "user": {
      "displayName": "Tram Doan",
      "photoUrl": "https://lh3.googleusercontent.com/a-/AOh14Gj-HLMgk4ZuGKXq_dwJcXDDQiigSmex2Qk5Q95s9Q=s64",
      "userId": "05544505470562274171"
     },
     "user_tz": -420
    },
    "id": "C4h4sVHah9lN",
    "outputId": "0b0a19a5-561b-49d8-8501-19078e15b0da"
   },
   "outputs": [
    {
     "name": "stdout",
     "output_type": "stream",
     "text": [
      "     SalePrice      location_street              location_ward  \\\n",
      "3   42668.8444      Đường Bạch Đằng  Phường 15 Quận Bình Thạnh   \n",
      "10  26521.7400           Đường Số 2            Phường 4 Quận 3   \n",
      "11   4493.7600          Đường Số 59      Phường 14 Quận Gò Vấp   \n",
      "12  24916.3560  Đường Điện Biên Phủ  Phường 17 Quận Bình Thạnh   \n",
      "21  10776.4200  Đường Tô Hiến Thành          Phường 13 Quận 10   \n",
      "\n",
      "   location_district location_city  number_of_bedroom  number_of_toilet  \\\n",
      "3    Quận Bình Thạnh        TP.HCM                  7                 8   \n",
      "10            Quận 3        TP.HCM                  6                 6   \n",
      "11       Quận Gò Vấp        TP.HCM                 10                 6   \n",
      "12   Quận Bình Thạnh        TP.HCM                  3                 2   \n",
      "21           Quận 10        TP.HCM                  5                 6   \n",
      "\n",
      "    access_to_school  access_to_hospital  access_to_market  ...    loc_lat  \\\n",
      "3                  0                   0                 1  ...  10.796401   \n",
      "10                 1                   1                 1  ...  10.773210   \n",
      "11                 1                   0                 0  ...  10.843037   \n",
      "12                 0                   0                 1  ...  10.801243   \n",
      "21                 0                   0                 0  ...  10.778093   \n",
      "\n",
      "      loc_long  distance_to_central  location_street_code  location_ward_code  \\\n",
      "3   106.700330             2.785131                   268                  68   \n",
      "10  106.681914             1.851787                  1178                 111   \n",
      "11  106.637165            10.482427                  1265                  60   \n",
      "12  106.710983             3.595843                  1884                  76   \n",
      "21  106.665834             3.704064                  1655                  41   \n",
      "\n",
      "    location_district_code location_city_code  status_house_code  \\\n",
      "3                       16                  0                  2   \n",
      "10                       9                  0                  2   \n",
      "11                      18                  0                  2   \n",
      "12                      16                  0                  1   \n",
      "21                       5                  0                  2   \n",
      "\n",
      "    Legal_documents_code view_code  \n",
      "3                      2         0  \n",
      "10                     2         0  \n",
      "11                     2         0  \n",
      "12                     2         5  \n",
      "21                     2         4  \n",
      "\n",
      "[5 rows x 31 columns]\n",
      "          SalePrice  number_of_bedroom  number_of_toilet  access_to_school  \\\n",
      "count  26271.000000       26271.000000      26271.000000      26271.000000   \n",
      "mean    6532.253343           3.031860          2.781698          0.720833   \n",
      "std     5573.147946           1.577998          1.622114          0.448598   \n",
      "min      329.940000           1.000000          1.000000          0.000000   \n",
      "25%     3402.991905           2.000000          2.000000          0.000000   \n",
      "50%     4958.194050           3.000000          2.000000          1.000000   \n",
      "75%     7551.192000           4.000000          4.000000          1.000000   \n",
      "max    91304.426400          10.000000         10.000000          1.000000   \n",
      "\n",
      "       access_to_hospital  access_to_market    total_sqft  number_of_floor  \\\n",
      "count        26271.000000      26271.000000  26271.000000     26271.000000   \n",
      "mean             0.211336          0.779795    119.342777         2.419988   \n",
      "std              0.408264          0.414393     82.422341         0.894976   \n",
      "min              0.000000          0.000000      1.000000         1.000000   \n",
      "25%              0.000000          1.000000     62.400000         2.000000   \n",
      "50%              0.000000          1.000000     98.100000         2.000000   \n",
      "75%              0.000000          1.000000    156.600000         3.000000   \n",
      "max              1.000000          1.000000   1584.300000         7.500000   \n",
      "\n",
      "       is_having_basement  is_having_attic_floor  ...       loc_lat  \\\n",
      "count        26271.000000           26271.000000  ...  26271.000000   \n",
      "mean             0.002588               0.014388  ...     10.795597   \n",
      "std              0.050811               0.119088  ...      0.048402   \n",
      "min              0.000000               0.000000  ...     10.617409   \n",
      "25%              0.000000               0.000000  ...     10.759784   \n",
      "50%              0.000000               0.000000  ...     10.793382   \n",
      "75%              0.000000               0.000000  ...     10.835689   \n",
      "max              1.000000               1.000000  ...     10.914522   \n",
      "\n",
      "           loc_long  distance_to_central  location_street_code  \\\n",
      "count  26271.000000         26271.000000          26271.000000   \n",
      "mean     106.669881             7.914744           1036.568726   \n",
      "std        0.050042             3.823109            514.055709   \n",
      "min      106.480977             0.290784              0.000000   \n",
      "25%      106.634188             4.626423            627.000000   \n",
      "50%      106.664118             8.111241           1028.000000   \n",
      "75%      106.697974            10.360931           1452.000000   \n",
      "max      106.859596            24.269218           2068.000000   \n",
      "\n",
      "       location_ward_code  location_district_code  location_city_code  \\\n",
      "count        26271.000000            26271.000000             26271.0   \n",
      "mean           148.249477               13.574892                 0.0   \n",
      "std             80.931241                6.108318                 0.0   \n",
      "min              0.000000                0.000000                 0.0   \n",
      "25%             72.000000                8.000000                 0.0   \n",
      "50%            166.000000               15.000000                 0.0   \n",
      "75%            216.000000               18.000000                 0.0   \n",
      "max            292.000000               22.000000                 0.0   \n",
      "\n",
      "       status_house_code  Legal_documents_code     view_code  \n",
      "count       26271.000000          26271.000000  26271.000000  \n",
      "mean            1.442579              2.013399      4.940885  \n",
      "std             0.692752              0.156484      2.376954  \n",
      "min             0.000000              0.000000      0.000000  \n",
      "25%             1.000000              2.000000      4.000000  \n",
      "50%             2.000000              2.000000      5.000000  \n",
      "75%             2.000000              2.000000      7.000000  \n",
      "max             2.000000              3.000000      8.000000  \n",
      "\n",
      "[8 rows x 24 columns]\n"
     ]
    }
   ],
   "source": [
    "df['location_street_code'] = df['location_street'].astype('category')\n",
    "df['location_street_code'] = df['location_street_code'].cat.codes\n",
    "df['location_ward_code'] = df['location_ward'].astype('category')\n",
    "df['location_ward_code'] = df['location_ward_code'].cat.codes\n",
    "df['location_district_code'] = df['location_district'].astype('category')\n",
    "df['location_district_code'] = df['location_district_code'].cat.codes\n",
    "df['location_city_code'] = df['location_city'].astype('category')\n",
    "df['location_city_code'] = df['location_city_code'].cat.codes\n",
    "# df['type_of_house_code'] = df['type_of_house'].astype('category')\n",
    "# df['type_of_house_code'] = df['type_of_house_code'].cat.codes\n",
    "df['status_house_code'] = df['status_house'].astype('category')\n",
    "df['status_house_code'] = df['status_house_code'].cat.codes\n",
    "df['Legal_documents_code'] = df['Legal_documents'].astype('category')\n",
    "df['Legal_documents_code'] = df['Legal_documents_code'].cat.codes\n",
    "df['view_code'] = df['view'].astype('category')\n",
    "df['view_code'] = df['view_code'].cat.codes\n",
    "df = df[df['number_of_bedroom'] <= 10]\n",
    "df = df[df['number_of_toilet'] <= 10]\n",
    "df = df[df['alley_width'] <= 15]\n",
    "# review data after filter\n",
    "print(df.head())\n",
    "print(df.describe())"
   ]
  },
  {
   "cell_type": "markdown",
   "metadata": {
    "id": "NOunPydm40Q_"
   },
   "source": [
    "## Caculated distance"
   ]
  },
  {
   "cell_type": "code",
   "execution_count": 4,
   "metadata": {
    "id": "IHYHO0HQPGzb"
   },
   "outputs": [],
   "source": [
    "from geopy import distance\n",
    "lat_long = df['loc_lat'].astype(str) + ',' + df['loc_long'].astype(str)\n",
    "lat_long = list(map(eval, lat_long))\n",
    "hcm_center = (10.769444, 106.681944)\n",
    "miles = []\n",
    "for i in lat_long:\n",
    "    miles.append(round(distance.distance(i, hcm_center).km, 1))\n",
    "df['distance'] = miles"
   ]
  },
  {
   "cell_type": "code",
   "execution_count": 5,
   "metadata": {
    "colab": {
     "base_uri": "https://localhost:8080/"
    },
    "executionInfo": {
     "elapsed": 344,
     "status": "ok",
     "timestamp": 1625584751675,
     "user": {
      "displayName": "Tram Doan",
      "photoUrl": "https://lh3.googleusercontent.com/a-/AOh14Gj-HLMgk4ZuGKXq_dwJcXDDQiigSmex2Qk5Q95s9Q=s64",
      "userId": "05544505470562274171"
     },
     "user_tz": -420
    },
    "id": "xIz5ldcCP6c-",
    "outputId": "fb5f2809-1113-4b85-fa99-a07e2a5566bd"
   },
   "outputs": [
    {
     "name": "stdout",
     "output_type": "stream",
     "text": [
      "        SalePrice        location_street                  location_ward  \\\n",
      "3      42668.8444        Đường Bạch Đằng      Phường 15 Quận Bình Thạnh   \n",
      "10     26521.7400             Đường Số 2                Phường 4 Quận 3   \n",
      "11      4493.7600            Đường Số 59          Phường 14 Quận Gò Vấp   \n",
      "12     24916.3560    Đường Điện Biên Phủ      Phường 17 Quận Bình Thạnh   \n",
      "21     10776.4200    Đường Tô Hiến Thành              Phường 13 Quận 10   \n",
      "...           ...                    ...                            ...   \n",
      "27651   1683.8100             Đường Số 9          Phường 16 Quận Gò Vấp   \n",
      "27652   4840.5600  Đường Nguyễn Thái Sơn           Phường 7 Quận Gò Vấp   \n",
      "27653   6001.9800    Đường Trần Kế Xương        Phường 7 Quận Phú Nhuận   \n",
      "27654   2084.6352   Đường Trần Xuân Soạn        Phường Tân Kiểng Quận 7   \n",
      "27655   5056.3590    Đường Huỳnh Thị hai  Phường Tân Chánh Hiệp Quận 12   \n",
      "\n",
      "      location_district location_city  number_of_bedroom  number_of_toilet  \\\n",
      "3       Quận Bình Thạnh        TP.HCM                  7                 8   \n",
      "10               Quận 3        TP.HCM                  6                 6   \n",
      "11          Quận Gò Vấp        TP.HCM                 10                 6   \n",
      "12      Quận Bình Thạnh        TP.HCM                  3                 2   \n",
      "21              Quận 10        TP.HCM                  5                 6   \n",
      "...                 ...           ...                ...               ...   \n",
      "27651       Quận Gò Vấp        TP.HCM                  1                 1   \n",
      "27652       Quận Gò Vấp        TP.HCM                  4                 1   \n",
      "27653    Quận Phú Nhuận        TP.HCM                  1                 1   \n",
      "27654            Quận 7        TP.HCM                  6                 6   \n",
      "27655           Quận 12        TP.HCM                  3                 3   \n",
      "\n",
      "       access_to_school  access_to_hospital  access_to_market  ...  \\\n",
      "3                     0                   0                 1  ...   \n",
      "10                    1                   1                 1  ...   \n",
      "11                    1                   0                 0  ...   \n",
      "12                    0                   0                 1  ...   \n",
      "21                    0                   0                 0  ...   \n",
      "...                 ...                 ...               ...  ...   \n",
      "27651                 1                   0                 1  ...   \n",
      "27652                 1                   0                 1  ...   \n",
      "27653                 0                   1                 1  ...   \n",
      "27654                 1                   1                 1  ...   \n",
      "27655                 1                   0                 1  ...   \n",
      "\n",
      "         loc_long  distance_to_central  location_street_code  \\\n",
      "3      106.700330             2.785131                   268   \n",
      "10     106.681914             1.851787                  1178   \n",
      "11     106.637165            10.482427                  1265   \n",
      "12     106.710983             3.595843                  1884   \n",
      "21     106.665834             3.704064                  1655   \n",
      "...           ...                  ...                   ...   \n",
      "27651  106.668255             8.817834                  1303   \n",
      "27652  106.689885             6.240893                   880   \n",
      "27653  106.689447             3.494657                  1494   \n",
      "27654  106.710157             2.791572                  1543   \n",
      "27655  106.630826            13.063656                   501   \n",
      "\n",
      "       location_ward_code  location_district_code  location_city_code  \\\n",
      "3                      68                      16                   0   \n",
      "10                    111                       9                   0   \n",
      "11                     60                      18                   0   \n",
      "12                     76                      16                   0   \n",
      "21                     41                       5                   0   \n",
      "...                   ...                     ...                 ...   \n",
      "27651                  75                      18                   0   \n",
      "27652                 147                      18                   0   \n",
      "27653                 148                      19                   0   \n",
      "27654                 235                      13                   0   \n",
      "27655                 232                       7                   0   \n",
      "\n",
      "      status_house_code  Legal_documents_code  view_code distance  \n",
      "3                     2                     2          0      3.6  \n",
      "10                    2                     2          0      0.4  \n",
      "11                    2                     2          0      9.5  \n",
      "12                    1                     2          5      4.7  \n",
      "21                    2                     2          4      2.0  \n",
      "...                 ...                   ...        ...      ...  \n",
      "27651                 1                     2          6      8.5  \n",
      "27652                 1                     3          3      6.4  \n",
      "27653                 2                     2          5      3.6  \n",
      "27654                 0                     2          2      3.8  \n",
      "27655                 1                     2          4     12.2  \n",
      "\n",
      "[26221 rows x 32 columns]\n"
     ]
    }
   ],
   "source": [
    "print(df.head(-50))"
   ]
  },
  {
   "cell_type": "code",
   "execution_count": 6,
   "metadata": {
    "colab": {
     "base_uri": "https://localhost:8080/"
    },
    "executionInfo": {
     "elapsed": 541,
     "status": "ok",
     "timestamp": 1625584719350,
     "user": {
      "displayName": "Tram Doan",
      "photoUrl": "https://lh3.googleusercontent.com/a-/AOh14Gj-HLMgk4ZuGKXq_dwJcXDDQiigSmex2Qk5Q95s9Q=s64",
      "userId": "05544505470562274171"
     },
     "user_tz": -420
    },
    "id": "o2CSf_H7Zjtu",
    "outputId": "53c2593c-c967-4aa6-e158-267957d7be4a"
   },
   "outputs": [
    {
     "name": "stdout",
     "output_type": "stream",
     "text": [
      "<class 'pandas.core.frame.DataFrame'>\n",
      "Int64Index: 26271 entries, 3 to 27707\n",
      "Data columns (total 32 columns):\n",
      " #   Column                  Non-Null Count  Dtype  \n",
      "---  ------                  --------------  -----  \n",
      " 0   SalePrice               26271 non-null  float64\n",
      " 1   location_street         26271 non-null  object \n",
      " 2   location_ward           26271 non-null  object \n",
      " 3   location_district       26271 non-null  object \n",
      " 4   location_city           26271 non-null  object \n",
      " 5   number_of_bedroom       26271 non-null  int64  \n",
      " 6   number_of_toilet        26271 non-null  int64  \n",
      " 7   access_to_school        26271 non-null  int64  \n",
      " 8   access_to_hospital      26271 non-null  int64  \n",
      " 9   access_to_market        26271 non-null  int64  \n",
      " 10  total_sqft              26271 non-null  float64\n",
      " 11  number_of_floor         26271 non-null  float64\n",
      " 12  is_having_basement      26271 non-null  int64  \n",
      " 13  is_having_attic_floor   26271 non-null  int64  \n",
      " 14  is_having_rooftop       26271 non-null  int64  \n",
      " 15  alley_width             26271 non-null  float64\n",
      " 16  status_house            26271 non-null  object \n",
      " 17  length                  26271 non-null  float64\n",
      " 18  width                   26271 non-null  float64\n",
      " 19  Legal_documents         26271 non-null  object \n",
      " 20  view                    26271 non-null  object \n",
      " 21  loc_lat                 26271 non-null  float64\n",
      " 22  loc_long                26271 non-null  float64\n",
      " 23  distance_to_central     26271 non-null  float64\n",
      " 24  location_street_code    26271 non-null  int16  \n",
      " 25  location_ward_code      26271 non-null  int16  \n",
      " 26  location_district_code  26271 non-null  int8   \n",
      " 27  location_city_code      26271 non-null  int8   \n",
      " 28  status_house_code       26271 non-null  int8   \n",
      " 29  Legal_documents_code    26271 non-null  int8   \n",
      " 30  view_code               26271 non-null  int8   \n",
      " 31  distance                26271 non-null  float64\n",
      "dtypes: float64(10), int16(2), int64(8), int8(5), object(7)\n",
      "memory usage: 5.4+ MB\n"
     ]
    }
   ],
   "source": [
    "df.info()"
   ]
  },
  {
   "cell_type": "markdown",
   "metadata": {
    "id": "-xqmhugneIN0"
   },
   "source": [
    "## 2. FEATURE SELECTION & DATA SPLIT"
   ]
  },
  {
   "cell_type": "code",
   "execution_count": 7,
   "metadata": {
    "executionInfo": {
     "elapsed": 541,
     "status": "ok",
     "timestamp": 1625924702252,
     "user": {
      "displayName": "Thảo Nguyễn",
      "photoUrl": "https://lh3.googleusercontent.com/a-/AOh14GjZ7bYRf_fhmynnrcPo5DT5DmcQ4oLoKYHn9JuIwQ=s64",
      "userId": "01362110880640011983"
     },
     "user_tz": -420
    },
    "id": "0ZF3xSZ9eHiz"
   },
   "outputs": [],
   "source": [
    "## 3. FEATURE SELECTION & DATA SPLIT\n",
    "# # list feature\n",
    "\n",
    "# features = ['location_street_code', 'location_ward_code', 'location_district_code', 'location_city_code',\n",
    "#             'number_of_bedroom', 'number_of_toilet', 'access_to_school', 'access_to_hospital', 'access_to_market', \n",
    "#             'number_of_floor', 'is_having_basement', 'is_having_attic_floor',\n",
    "#             'is_having_rooftop', 'alley_width', 'status_house_code', 'length','width', 'view_code', 'distance','Legal_documents_code']\n",
    "\n",
    "features = ['number_of_bedroom', 'number_of_toilet', 'access_to_school', 'access_to_hospital', 'access_to_market', \n",
    "            'number_of_floor','alley_width', 'total_sqft','distance']\n"
   ]
  },
  {
   "cell_type": "code",
   "execution_count": 8,
   "metadata": {
    "colab": {
     "base_uri": "https://localhost:8080/",
     "height": 181
    },
    "executionInfo": {
     "elapsed": 38,
     "status": "error",
     "timestamp": 1625924702271,
     "user": {
      "displayName": "Thảo Nguyễn",
      "photoUrl": "https://lh3.googleusercontent.com/a-/AOh14GjZ7bYRf_fhmynnrcPo5DT5DmcQ4oLoKYHn9JuIwQ=s64",
      "userId": "01362110880640011983"
     },
     "user_tz": -420
    },
    "id": "dycsoFOie8EN",
    "outputId": "8ea9ee80-953f-4065-981c-03f52ab0c4f9"
   },
   "outputs": [
    {
     "data": {
      "text/html": [
       "<div>\n",
       "<style scoped>\n",
       "    .dataframe tbody tr th:only-of-type {\n",
       "        vertical-align: middle;\n",
       "    }\n",
       "\n",
       "    .dataframe tbody tr th {\n",
       "        vertical-align: top;\n",
       "    }\n",
       "\n",
       "    .dataframe thead th {\n",
       "        text-align: right;\n",
       "    }\n",
       "</style>\n",
       "<table border=\"1\" class=\"dataframe\">\n",
       "  <thead>\n",
       "    <tr style=\"text-align: right;\">\n",
       "      <th></th>\n",
       "      <th>number_of_bedroom</th>\n",
       "      <th>number_of_toilet</th>\n",
       "      <th>access_to_school</th>\n",
       "      <th>access_to_hospital</th>\n",
       "      <th>access_to_market</th>\n",
       "      <th>number_of_floor</th>\n",
       "      <th>alley_width</th>\n",
       "      <th>total_sqft</th>\n",
       "      <th>distance</th>\n",
       "    </tr>\n",
       "  </thead>\n",
       "  <tbody>\n",
       "    <tr>\n",
       "      <th>3</th>\n",
       "      <td>7</td>\n",
       "      <td>8</td>\n",
       "      <td>0</td>\n",
       "      <td>0</td>\n",
       "      <td>1</td>\n",
       "      <td>7.5</td>\n",
       "      <td>15.00</td>\n",
       "      <td>656.7</td>\n",
       "      <td>3.6</td>\n",
       "    </tr>\n",
       "    <tr>\n",
       "      <th>10</th>\n",
       "      <td>6</td>\n",
       "      <td>6</td>\n",
       "      <td>1</td>\n",
       "      <td>1</td>\n",
       "      <td>1</td>\n",
       "      <td>7.0</td>\n",
       "      <td>8.00</td>\n",
       "      <td>219.0</td>\n",
       "      <td>0.4</td>\n",
       "    </tr>\n",
       "    <tr>\n",
       "      <th>11</th>\n",
       "      <td>10</td>\n",
       "      <td>6</td>\n",
       "      <td>1</td>\n",
       "      <td>0</td>\n",
       "      <td>0</td>\n",
       "      <td>7.0</td>\n",
       "      <td>5.00</td>\n",
       "      <td>30.2</td>\n",
       "      <td>9.5</td>\n",
       "    </tr>\n",
       "    <tr>\n",
       "      <th>12</th>\n",
       "      <td>3</td>\n",
       "      <td>2</td>\n",
       "      <td>0</td>\n",
       "      <td>0</td>\n",
       "      <td>1</td>\n",
       "      <td>7.0</td>\n",
       "      <td>8.19</td>\n",
       "      <td>115.8</td>\n",
       "      <td>4.7</td>\n",
       "    </tr>\n",
       "    <tr>\n",
       "      <th>21</th>\n",
       "      <td>5</td>\n",
       "      <td>6</td>\n",
       "      <td>0</td>\n",
       "      <td>0</td>\n",
       "      <td>0</td>\n",
       "      <td>6.5</td>\n",
       "      <td>3.00</td>\n",
       "      <td>176.4</td>\n",
       "      <td>2.0</td>\n",
       "    </tr>\n",
       "  </tbody>\n",
       "</table>\n",
       "</div>"
      ],
      "text/plain": [
       "    number_of_bedroom  number_of_toilet  access_to_school  access_to_hospital  \\\n",
       "3                   7                 8                 0                   0   \n",
       "10                  6                 6                 1                   1   \n",
       "11                 10                 6                 1                   0   \n",
       "12                  3                 2                 0                   0   \n",
       "21                  5                 6                 0                   0   \n",
       "\n",
       "    access_to_market  number_of_floor  alley_width  total_sqft  distance  \n",
       "3                  1              7.5        15.00       656.7       3.6  \n",
       "10                 1              7.0         8.00       219.0       0.4  \n",
       "11                 0              7.0         5.00        30.2       9.5  \n",
       "12                 1              7.0         8.19       115.8       4.7  \n",
       "21                 0              6.5         3.00       176.4       2.0  "
      ]
     },
     "execution_count": 8,
     "metadata": {},
     "output_type": "execute_result"
    }
   ],
   "source": [
    "X = df[features]\n",
    "X.head()"
   ]
  },
  {
   "cell_type": "code",
   "execution_count": 9,
   "metadata": {
    "executionInfo": {
     "elapsed": 17,
     "status": "aborted",
     "timestamp": 1625924702253,
     "user": {
      "displayName": "Thảo Nguyễn",
      "photoUrl": "https://lh3.googleusercontent.com/a-/AOh14GjZ7bYRf_fhmynnrcPo5DT5DmcQ4oLoKYHn9JuIwQ=s64",
      "userId": "01362110880640011983"
     },
     "user_tz": -420
    },
    "id": "gfiePR_NfgCS"
   },
   "outputs": [],
   "source": [
    "# Transfrom data \n",
    "df['SalePrice'] = np.log1p(df['SalePrice'])\n",
    "df['total_sqft'] = np.log1p(df['total_sqft'])\n"
   ]
  },
  {
   "cell_type": "code",
   "execution_count": 10,
   "metadata": {},
   "outputs": [
    {
     "data": {
      "text/plain": [
       "count    26271.000000\n",
       "mean         8.560763\n",
       "std          0.634778\n",
       "min          5.801937\n",
       "25%          8.132704\n",
       "50%          8.508999\n",
       "75%          8.929593\n",
       "max         11.421965\n",
       "Name: SalePrice, dtype: float64"
      ]
     },
     "execution_count": 10,
     "metadata": {},
     "output_type": "execute_result"
    }
   ],
   "source": [
    "y = df['SalePrice']\n",
    "y.describe()"
   ]
  },
  {
   "cell_type": "code",
   "execution_count": 11,
   "metadata": {
    "executionInfo": {
     "elapsed": 18,
     "status": "aborted",
     "timestamp": 1625924702254,
     "user": {
      "displayName": "Thảo Nguyễn",
      "photoUrl": "https://lh3.googleusercontent.com/a-/AOh14GjZ7bYRf_fhmynnrcPo5DT5DmcQ4oLoKYHn9JuIwQ=s64",
      "userId": "01362110880640011983"
     },
     "user_tz": -420
    },
    "id": "4IdWw95_gQiz"
   },
   "outputs": [
    {
     "name": "stderr",
     "output_type": "stream",
     "text": [
      "<ipython-input-11-abe91d8b31c3>:12: DeprecationWarning: The default dtype for empty Series will be 'object' instead of 'float64' in a future version. Specify a dtype explicitly to silence this warning.\n",
      "  new_pval = pd.Series(index=remaining_features)\n",
      "<ipython-input-11-abe91d8b31c3>:12: DeprecationWarning: The default dtype for empty Series will be 'object' instead of 'float64' in a future version. Specify a dtype explicitly to silence this warning.\n",
      "  new_pval = pd.Series(index=remaining_features)\n",
      "<ipython-input-11-abe91d8b31c3>:12: DeprecationWarning: The default dtype for empty Series will be 'object' instead of 'float64' in a future version. Specify a dtype explicitly to silence this warning.\n",
      "  new_pval = pd.Series(index=remaining_features)\n",
      "<ipython-input-11-abe91d8b31c3>:12: DeprecationWarning: The default dtype for empty Series will be 'object' instead of 'float64' in a future version. Specify a dtype explicitly to silence this warning.\n",
      "  new_pval = pd.Series(index=remaining_features)\n",
      "<ipython-input-11-abe91d8b31c3>:12: DeprecationWarning: The default dtype for empty Series will be 'object' instead of 'float64' in a future version. Specify a dtype explicitly to silence this warning.\n",
      "  new_pval = pd.Series(index=remaining_features)\n",
      "<ipython-input-11-abe91d8b31c3>:12: DeprecationWarning: The default dtype for empty Series will be 'object' instead of 'float64' in a future version. Specify a dtype explicitly to silence this warning.\n",
      "  new_pval = pd.Series(index=remaining_features)\n",
      "<ipython-input-11-abe91d8b31c3>:12: DeprecationWarning: The default dtype for empty Series will be 'object' instead of 'float64' in a future version. Specify a dtype explicitly to silence this warning.\n",
      "  new_pval = pd.Series(index=remaining_features)\n",
      "<ipython-input-11-abe91d8b31c3>:12: DeprecationWarning: The default dtype for empty Series will be 'object' instead of 'float64' in a future version. Specify a dtype explicitly to silence this warning.\n",
      "  new_pval = pd.Series(index=remaining_features)\n"
     ]
    },
    {
     "data": {
      "text/plain": [
       "['alley_width',\n",
       " 'distance',\n",
       " 'number_of_toilet',\n",
       " 'total_sqft',\n",
       " 'number_of_floor',\n",
       " 'number_of_bedroom',\n",
       " 'access_to_school']"
      ]
     },
     "execution_count": 11,
     "metadata": {},
     "output_type": "execute_result"
    }
   ],
   "source": [
    "#importing the necessary libraries\n",
    "from mlxtend.feature_selection import SequentialFeatureSelector as SFS\n",
    "from sklearn.linear_model import LinearRegression\n",
    "import statsmodels.api as sm\n",
    "\n",
    "# forward_selection\n",
    "def forward_selection(data, target, significance_level=0.05):\n",
    "    initial_features = data.columns.tolist()\n",
    "    best_features = []\n",
    "    while (len(initial_features)>0):\n",
    "        remaining_features = list(set(initial_features)-set(best_features))\n",
    "        new_pval = pd.Series(index=remaining_features)\n",
    "        for new_column in remaining_features:\n",
    "            model = sm.OLS(target, sm.add_constant(data[best_features+[new_column]])).fit()\n",
    "            new_pval[new_column] = model.pvalues[new_column]\n",
    "        min_p_value = new_pval.min()\n",
    "        if(min_p_value<significance_level):\n",
    "            best_features.append(new_pval.idxmin())\n",
    "        else:\n",
    "            break\n",
    "    return best_features\n",
    "\n",
    "forward_selection(X,y)"
   ]
  },
  {
   "cell_type": "code",
   "execution_count": 12,
   "metadata": {
    "executionInfo": {
     "elapsed": 18,
     "status": "aborted",
     "timestamp": 1625924702255,
     "user": {
      "displayName": "Thảo Nguyễn",
      "photoUrl": "https://lh3.googleusercontent.com/a-/AOh14GjZ7bYRf_fhmynnrcPo5DT5DmcQ4oLoKYHn9JuIwQ=s64",
      "userId": "01362110880640011983"
     },
     "user_tz": -420
    },
    "id": "VGypIRQOgiVc"
   },
   "outputs": [
    {
     "data": {
      "text/plain": [
       "['number_of_bedroom',\n",
       " 'number_of_toilet',\n",
       " 'access_to_school',\n",
       " 'number_of_floor',\n",
       " 'alley_width',\n",
       " 'total_sqft',\n",
       " 'distance']"
      ]
     },
     "execution_count": 12,
     "metadata": {},
     "output_type": "execute_result"
    }
   ],
   "source": [
    "def backward_elimination(data, target,significance_level = 0.05):\n",
    "    features = data.columns.tolist()\n",
    "    while(len(features)>0):\n",
    "        features_with_constant = sm.add_constant(data[features])\n",
    "        p_values = sm.OLS(target, features_with_constant).fit().pvalues[1:]\n",
    "        max_p_value = p_values.max()\n",
    "        if(max_p_value >= significance_level):\n",
    "            excluded_feature = p_values.idxmax()\n",
    "            features.remove(excluded_feature)\n",
    "        else:\n",
    "            break \n",
    "    return features\n",
    "\n",
    "backward_elimination(X,y)"
   ]
  },
  {
   "cell_type": "code",
   "execution_count": 13,
   "metadata": {
    "executionInfo": {
     "elapsed": 19,
     "status": "aborted",
     "timestamp": 1625924702256,
     "user": {
      "displayName": "Thảo Nguyễn",
      "photoUrl": "https://lh3.googleusercontent.com/a-/AOh14GjZ7bYRf_fhmynnrcPo5DT5DmcQ4oLoKYHn9JuIwQ=s64",
      "userId": "01362110880640011983"
     },
     "user_tz": -420
    },
    "id": "5D7ufHHWgpD-"
   },
   "outputs": [
    {
     "name": "stderr",
     "output_type": "stream",
     "text": [
      "<ipython-input-13-ff08574a87e6>:6: DeprecationWarning: The default dtype for empty Series will be 'object' instead of 'float64' in a future version. Specify a dtype explicitly to silence this warning.\n",
      "  new_pval = pd.Series(index=remaining_features)\n",
      "<ipython-input-13-ff08574a87e6>:6: DeprecationWarning: The default dtype for empty Series will be 'object' instead of 'float64' in a future version. Specify a dtype explicitly to silence this warning.\n",
      "  new_pval = pd.Series(index=remaining_features)\n",
      "<ipython-input-13-ff08574a87e6>:6: DeprecationWarning: The default dtype for empty Series will be 'object' instead of 'float64' in a future version. Specify a dtype explicitly to silence this warning.\n",
      "  new_pval = pd.Series(index=remaining_features)\n",
      "<ipython-input-13-ff08574a87e6>:6: DeprecationWarning: The default dtype for empty Series will be 'object' instead of 'float64' in a future version. Specify a dtype explicitly to silence this warning.\n",
      "  new_pval = pd.Series(index=remaining_features)\n",
      "<ipython-input-13-ff08574a87e6>:6: DeprecationWarning: The default dtype for empty Series will be 'object' instead of 'float64' in a future version. Specify a dtype explicitly to silence this warning.\n",
      "  new_pval = pd.Series(index=remaining_features)\n",
      "<ipython-input-13-ff08574a87e6>:6: DeprecationWarning: The default dtype for empty Series will be 'object' instead of 'float64' in a future version. Specify a dtype explicitly to silence this warning.\n",
      "  new_pval = pd.Series(index=remaining_features)\n",
      "<ipython-input-13-ff08574a87e6>:6: DeprecationWarning: The default dtype for empty Series will be 'object' instead of 'float64' in a future version. Specify a dtype explicitly to silence this warning.\n",
      "  new_pval = pd.Series(index=remaining_features)\n",
      "<ipython-input-13-ff08574a87e6>:6: DeprecationWarning: The default dtype for empty Series will be 'object' instead of 'float64' in a future version. Specify a dtype explicitly to silence this warning.\n",
      "  new_pval = pd.Series(index=remaining_features)\n"
     ]
    },
    {
     "data": {
      "text/plain": [
       "['alley_width',\n",
       " 'distance',\n",
       " 'number_of_toilet',\n",
       " 'total_sqft',\n",
       " 'number_of_floor',\n",
       " 'number_of_bedroom',\n",
       " 'access_to_school']"
      ]
     },
     "execution_count": 13,
     "metadata": {},
     "output_type": "execute_result"
    }
   ],
   "source": [
    "def stepwise_selection(data, target,SL_in=0.05,SL_out = 0.05):\n",
    "    initial_features = data.columns.tolist()\n",
    "    best_features = []\n",
    "    while (len(initial_features)>0):\n",
    "        remaining_features = list(set(initial_features)-set(best_features))\n",
    "        new_pval = pd.Series(index=remaining_features)\n",
    "        for new_column in remaining_features:\n",
    "            model = sm.OLS(target, sm.add_constant(data[best_features+[new_column]])).fit()\n",
    "            new_pval[new_column] = model.pvalues[new_column]\n",
    "        min_p_value = new_pval.min()\n",
    "        if(min_p_value<SL_in):\n",
    "            best_features.append(new_pval.idxmin())\n",
    "            while(len(best_features)>0):\n",
    "                best_features_with_constant = sm.add_constant(data[best_features])\n",
    "                p_values = sm.OLS(target, best_features_with_constant).fit().pvalues[1:]\n",
    "                max_p_value = p_values.max()\n",
    "                if(max_p_value >= SL_out):\n",
    "                    excluded_feature = p_values.idxmax()\n",
    "                    best_features.remove(excluded_feature)\n",
    "                else:\n",
    "                    break \n",
    "        else:\n",
    "            break\n",
    "    return best_features\n",
    "\n",
    "stepwise_selection(X,y)"
   ]
  },
  {
   "cell_type": "code",
   "execution_count": 14,
   "metadata": {
    "executionInfo": {
     "elapsed": 21,
     "status": "aborted",
     "timestamp": 1625924702258,
     "user": {
      "displayName": "Thảo Nguyễn",
      "photoUrl": "https://lh3.googleusercontent.com/a-/AOh14GjZ7bYRf_fhmynnrcPo5DT5DmcQ4oLoKYHn9JuIwQ=s64",
      "userId": "01362110880640011983"
     },
     "user_tz": -420
    },
    "id": "ZEKb-9a9qcls"
   },
   "outputs": [],
   "source": [
    "best_features = ['total_sqft',\n",
    " 'alley_width',\n",
    " 'distance',\n",
    " 'access_to_school', \n",
    " 'access_to_hospital']\n",
    "\n",
    "# ['is_having_rooftop',\n",
    "#  'width',\n",
    "#  'number_of_toilet',\n",
    "#  'length',\n",
    "#  'location_ward_code',\n",
    "#  'alley_width',\n",
    "#  'number_of_floor',\n",
    "#  'distance',\n",
    "#  'location_district_code',\n",
    "#  'access_to_school',\n",
    "#  'number_of_bedroom',\n",
    "#  'is_having_basement',\n",
    "#  'is_having_attic_floor',\n",
    "#  'access_to_hospital',\n",
    "#  'access_to_market',\n",
    "#  'view_code']\n",
    "\n",
    "# ['total_sqft',\n",
    "#  'alley_width',\n",
    "#  'distance',\n",
    "#  'number_of_bedroom',\n",
    "#  'number_of_floor',\n",
    "#  'access_to_school',\n",
    "#  'number_of_toilet', \n",
    "#  'access_to_hospital',\n",
    "#  'access_to_market']"
   ]
  },
  {
   "cell_type": "code",
   "execution_count": 15,
   "metadata": {
    "executionInfo": {
     "elapsed": 23,
     "status": "aborted",
     "timestamp": 1625924702260,
     "user": {
      "displayName": "Thảo Nguyễn",
      "photoUrl": "https://lh3.googleusercontent.com/a-/AOh14GjZ7bYRf_fhmynnrcPo5DT5DmcQ4oLoKYHn9JuIwQ=s64",
      "userId": "01362110880640011983"
     },
     "user_tz": -420
    },
    "id": "CXi0lrE_qclt"
   },
   "outputs": [
    {
     "data": {
      "text/plain": [
       "<matplotlib.axes._subplots.AxesSubplot at 0x1203e6dc0>"
      ]
     },
     "execution_count": 15,
     "metadata": {},
     "output_type": "execute_result"
    },
    {
     "data": {
      "image/png": "[encoded data removed]",
      "text/plain": [
       "<Figure size 432x288 with 2 Axes>"
      ]
     },
     "metadata": {
      "needs_background": "light"
     },
     "output_type": "display_data"
    }
   ],
   "source": [
    "import seaborn as sb\n",
    "sb.heatmap(df[best_features].corr(), annot=True, cmap='magma')"
   ]
  },
  {
   "cell_type": "code",
   "execution_count": 16,
   "metadata": {
    "executionInfo": {
     "elapsed": 23,
     "status": "aborted",
     "timestamp": 1625924702261,
     "user": {
      "displayName": "Thảo Nguyễn",
      "photoUrl": "https://lh3.googleusercontent.com/a-/AOh14GjZ7bYRf_fhmynnrcPo5DT5DmcQ4oLoKYHn9JuIwQ=s64",
      "userId": "01362110880640011983"
     },
     "user_tz": -420
    },
    "id": "LgyT8FOiqclt"
   },
   "outputs": [
    {
     "name": "stderr",
     "output_type": "stream",
     "text": [
      "/Users/thao/opt/miniconda3/lib/python3.8/site-packages/seaborn/distributions.py:2557: FutureWarning: `distplot` is a deprecated function and will be removed in a future version. Please adapt your code to use either `displot` (a figure-level function with similar flexibility) or `histplot` (an axes-level function for histograms).\n",
      "  warnings.warn(msg, FutureWarning)\n"
     ]
    },
    {
     "data": {
      "text/plain": [
       "<matplotlib.axes._subplots.AxesSubplot at 0x1205484c0>"
      ]
     },
     "execution_count": 16,
     "metadata": {},
     "output_type": "execute_result"
    },
    {
     "data": {
      "image/png": "[encoded data removed]",
      "text/plain": [
       "<Figure size 432x288 with 1 Axes>"
      ]
     },
     "metadata": {
      "needs_background": "light"
     },
     "output_type": "display_data"
    }
   ],
   "source": [
    "import seaborn as sns\n",
    "#histogram of Sale price distribution\n",
    "sns.distplot(df['SalePrice'])\n"
   ]
  },
  {
   "cell_type": "code",
   "execution_count": 17,
   "metadata": {
    "executionInfo": {
     "elapsed": 26,
     "status": "aborted",
     "timestamp": 1625924702264,
     "user": {
      "displayName": "Thảo Nguyễn",
      "photoUrl": "https://lh3.googleusercontent.com/a-/AOh14GjZ7bYRf_fhmynnrcPo5DT5DmcQ4oLoKYHn9JuIwQ=s64",
      "userId": "01362110880640011983"
     },
     "user_tz": -420
    },
    "id": "0M0RePMoqclu"
   },
   "outputs": [
    {
     "name": "stdout",
     "output_type": "stream",
     "text": [
      "access_to_hospital    1.414134\n",
      "alley_width           1.361951\n",
      "dtype: float64\n"
     ]
    }
   ],
   "source": [
    "from scipy.stats import skew\n",
    "#Top skewed columns\n",
    "\n",
    "skewed_features = df[best_features].apply(lambda x: skew(x)).sort_values(ascending=False)\n",
    "high_skew = skewed_features[abs(skewed_features) > 1]\n",
    "print(high_skew)"
   ]
  },
  {
   "cell_type": "code",
   "execution_count": 18,
   "metadata": {
    "executionInfo": {
     "elapsed": 27,
     "status": "aborted",
     "timestamp": 1625924702265,
     "user": {
      "displayName": "Thảo Nguyễn",
      "photoUrl": "https://lh3.googleusercontent.com/a-/AOh14GjZ7bYRf_fhmynnrcPo5DT5DmcQ4oLoKYHn9JuIwQ=s64",
      "userId": "01362110880640011983"
     },
     "user_tz": -420
    },
    "id": "AVXb4pxJqclu"
   },
   "outputs": [],
   "source": [
    "# #Transforming skewed columns\n",
    "# for feature in high_skew.index:\n",
    "#     df[feature] = np.log1p(df[feature])"
   ]
  },
  {
   "cell_type": "code",
   "execution_count": 19,
   "metadata": {
    "executionInfo": {
     "elapsed": 26,
     "status": "aborted",
     "timestamp": 1625924702265,
     "user": {
      "displayName": "Thảo Nguyễn",
      "photoUrl": "https://lh3.googleusercontent.com/a-/AOh14GjZ7bYRf_fhmynnrcPo5DT5DmcQ4oLoKYHn9JuIwQ=s64",
      "userId": "01362110880640011983"
     },
     "user_tz": -420
    },
    "id": "qlSH2VAYqclv"
   },
   "outputs": [],
   "source": [
    "from termcolor import colored as cl \n",
    "from sklearn.metrics import explained_variance_score as evs  # evaluation metric\n",
    "from sklearn.metrics import r2_score as r2  # evaluation metric\n",
    "from sklearn.model_selection import train_test_split \n",
    "# Split train & test dataset\n",
    "X_var = df[best_features].values\n",
    "y_var = df['SalePrice'].values\n",
    "X_train, X_test, y_train, y_test = train_test_split(X_var, y_var, test_size=0.2, random_state=0)\n"
   ]
  },
  {
   "cell_type": "code",
   "execution_count": 20,
   "metadata": {
    "executionInfo": {
     "elapsed": 27,
     "status": "aborted",
     "timestamp": 1625924702266,
     "user": {
      "displayName": "Thảo Nguyễn",
      "photoUrl": "https://lh3.googleusercontent.com/a-/AOh14GjZ7bYRf_fhmynnrcPo5DT5DmcQ4oLoKYHn9JuIwQ=s64",
      "userId": "01362110880640011983"
     },
     "user_tz": -420
    },
    "id": "YqpODEwtqclv"
   },
   "outputs": [
    {
     "name": "stdout",
     "output_type": "stream",
     "text": [
      "\u001b[1mR-SQUARED:\u001b[0m\n",
      "-------------------------------------------------------------------------------\n",
      "\u001b[1mR-Squared of OLS model is 0.698561005750517\u001b[0m\n",
      "-------------------------------------------------------------------------------\n"
     ]
    }
   ],
   "source": [
    "\n",
    "# 4.1. OLS\n",
    "\n",
    "ols = LinearRegression()\n",
    "results = ols.fit(X_train, y_train)\n",
    "ols_yhat = ols.predict(X_test)\n",
    "\n",
    "\n",
    "# 2. R-squared\n",
    "print(cl('R-SQUARED:', attrs = ['bold']))\n",
    "print('-------------------------------------------------------------------------------')\n",
    "print(cl('R-Squared of OLS model is {}'.format(r2(y_test, ols_yhat)), attrs = ['bold']))\n",
    "print('-------------------------------------------------------------------------------')\n"
   ]
  },
  {
   "cell_type": "code",
   "execution_count": 21,
   "metadata": {
    "executionInfo": {
     "elapsed": 28,
     "status": "aborted",
     "timestamp": 1625924702267,
     "user": {
      "displayName": "Thảo Nguyễn",
      "photoUrl": "https://lh3.googleusercontent.com/a-/AOh14GjZ7bYRf_fhmynnrcPo5DT5DmcQ4oLoKYHn9JuIwQ=s64",
      "userId": "01362110880640011983"
     },
     "user_tz": -420
    },
    "id": "zLfj5gs0qclv"
   },
   "outputs": [
    {
     "name": "stdout",
     "output_type": "stream",
     "text": [
      "                                 OLS Regression Results                                \n",
      "=======================================================================================\n",
      "Dep. Variable:                      y   R-squared (uncentered):                   0.990\n",
      "Model:                            OLS   Adj. R-squared (uncentered):              0.990\n",
      "Method:                 Least Squares   F-statistic:                          4.182e+05\n",
      "Date:                Mon, 19 Jul 2021   Prob (F-statistic):                        0.00\n",
      "Time:                        23:05:51   Log-Likelihood:                         -26563.\n",
      "No. Observations:               21016   AIC:                                  5.314e+04\n",
      "Df Residuals:                   21011   BIC:                                  5.318e+04\n",
      "Df Model:                           5                                                  \n",
      "Covariance Type:            nonrobust                                                  \n",
      "==============================================================================\n",
      "                 coef    std err          t      P>|t|      [0.025      0.975]\n",
      "------------------------------------------------------------------------------\n",
      "x1             1.8507      0.004    490.775      0.000       1.843       1.858\n",
      "x2             0.0055      0.002      2.686      0.007       0.001       0.009\n",
      "x3            -0.0265      0.002    -16.927      0.000      -0.030      -0.023\n",
      "x4             0.1648      0.014     11.895      0.000       0.138       0.192\n",
      "x5             0.0547      0.015      3.672      0.000       0.026       0.084\n",
      "==============================================================================\n",
      "Omnibus:                      503.027   Durbin-Watson:                   1.961\n",
      "Prob(Omnibus):                  0.000   Jarque-Bera (JB):              591.216\n",
      "Skew:                           0.333   Prob(JB):                    4.16e-129\n",
      "Kurtosis:                       3.482   Cond. No.                         28.8\n",
      "==============================================================================\n",
      "\n",
      "Notes:\n",
      "[1] R² is computed without centering (uncentered) since the model does not contain a constant.\n",
      "[2] Standard Errors assume that the covariance matrix of the errors is correctly specified.\n"
     ]
    }
   ],
   "source": [
    "import statsmodels.api as sm\n",
    "\n",
    "model = sm.OLS(y_train, X_train)\n",
    "results = model.fit()\n",
    "print(results.summary())\n",
    "\n"
   ]
  },
  {
   "cell_type": "code",
   "execution_count": 22,
   "metadata": {
    "executionInfo": {
     "elapsed": 30,
     "status": "aborted",
     "timestamp": 1625924702269,
     "user": {
      "displayName": "Thảo Nguyễn",
      "photoUrl": "https://lh3.googleusercontent.com/a-/AOh14GjZ7bYRf_fhmynnrcPo5DT5DmcQ4oLoKYHn9JuIwQ=s64",
      "userId": "01362110880640011983"
     },
     "user_tz": -420
    },
    "id": "ka4Le6q-qclv"
   },
   "outputs": [
    {
     "name": "stdout",
     "output_type": "stream",
     "text": [
      "                                 OLS Regression Results                                \n",
      "=======================================================================================\n",
      "Dep. Variable:                      y   R-squared (uncentered):                   0.990\n",
      "Model:                            OLS   Adj. R-squared (uncentered):              0.990\n",
      "Method:                 Least Squares   F-statistic:                          5.263e+05\n",
      "Date:                Mon, 19 Jul 2021   Prob (F-statistic):                        0.00\n",
      "Time:                        23:05:51   Log-Likelihood:                         -33111.\n",
      "No. Observations:               26271   AIC:                                  6.623e+04\n",
      "Df Residuals:                   26266   BIC:                                  6.627e+04\n",
      "Df Model:                           5                                                  \n",
      "Covariance Type:            nonrobust                                                  \n",
      "==============================================================================\n",
      "                 coef    std err          t      P>|t|      [0.025      0.975]\n",
      "------------------------------------------------------------------------------\n",
      "x1             1.8511      0.003    551.714      0.000       1.844       1.858\n",
      "x2             0.0049      0.002      2.710      0.007       0.001       0.008\n",
      "x3            -0.0262      0.001    -18.747      0.000      -0.029      -0.023\n",
      "x4             0.1637      0.012     13.260      0.000       0.139       0.188\n",
      "x5             0.0375      0.013      2.828      0.005       0.011       0.063\n",
      "==============================================================================\n",
      "Omnibus:                      529.625   Durbin-Watson:                   1.089\n",
      "Prob(Omnibus):                  0.000   Jarque-Bera (JB):              601.113\n",
      "Skew:                           0.311   Prob(JB):                    2.95e-131\n",
      "Kurtosis:                       3.403   Cond. No.                         28.8\n",
      "==============================================================================\n",
      "\n",
      "Notes:\n",
      "[1] R² is computed without centering (uncentered) since the model does not contain a constant.\n",
      "[2] Standard Errors assume that the covariance matrix of the errors is correctly specified.\n"
     ]
    }
   ],
   "source": [
    "import statsmodels.api as sm\n",
    "\n",
    "model = sm.OLS(y_var, X_var)\n",
    "results = model.fit()\n",
    "print(results.summary())\n"
   ]
  },
  {
   "cell_type": "code",
   "execution_count": 23,
   "metadata": {
    "executionInfo": {
     "elapsed": 30,
     "status": "aborted",
     "timestamp": 1625924702270,
     "user": {
      "displayName": "Thảo Nguyễn",
      "photoUrl": "https://lh3.googleusercontent.com/a-/AOh14GjZ7bYRf_fhmynnrcPo5DT5DmcQ4oLoKYHn9JuIwQ=s64",
      "userId": "01362110880640011983"
     },
     "user_tz": -420
    },
    "id": "9YaN7sofqclw"
   },
   "outputs": [
    {
     "name": "stdout",
     "output_type": "stream",
     "text": [
      "[ 1.85106462  0.00491482 -0.02620123  0.16367625  0.03746191]\n"
     ]
    }
   ],
   "source": [
    "print(results.params)\n"
   ]
  },
  {
   "cell_type": "code",
   "execution_count": 24,
   "metadata": {
    "executionInfo": {
     "elapsed": 30,
     "status": "aborted",
     "timestamp": 1625924702270,
     "user": {
      "displayName": "Thảo Nguyễn",
      "photoUrl": "https://lh3.googleusercontent.com/a-/AOh14GjZ7bYRf_fhmynnrcPo5DT5DmcQ4oLoKYHn9JuIwQ=s64",
      "userId": "01362110880640011983"
     },
     "user_tz": -420
    },
    "id": "VFKHgC84qclw"
   },
   "outputs": [
    {
     "data": {
      "text/html": [
       "<div>\n",
       "<style scoped>\n",
       "    .dataframe tbody tr th:only-of-type {\n",
       "        vertical-align: middle;\n",
       "    }\n",
       "\n",
       "    .dataframe tbody tr th {\n",
       "        vertical-align: top;\n",
       "    }\n",
       "\n",
       "    .dataframe thead th {\n",
       "        text-align: right;\n",
       "    }\n",
       "</style>\n",
       "<table border=\"1\" class=\"dataframe\">\n",
       "  <thead>\n",
       "    <tr style=\"text-align: right;\">\n",
       "      <th></th>\n",
       "      <th>0</th>\n",
       "      <th>1</th>\n",
       "    </tr>\n",
       "  </thead>\n",
       "  <tbody>\n",
       "    <tr>\n",
       "      <th>0</th>\n",
       "      <td>total_sqft</td>\n",
       "      <td>1.851065</td>\n",
       "    </tr>\n",
       "    <tr>\n",
       "      <th>1</th>\n",
       "      <td>alley_width</td>\n",
       "      <td>0.004915</td>\n",
       "    </tr>\n",
       "    <tr>\n",
       "      <th>2</th>\n",
       "      <td>distance</td>\n",
       "      <td>-0.026201</td>\n",
       "    </tr>\n",
       "    <tr>\n",
       "      <th>3</th>\n",
       "      <td>access_to_school</td>\n",
       "      <td>0.163676</td>\n",
       "    </tr>\n",
       "    <tr>\n",
       "      <th>4</th>\n",
       "      <td>access_to_hospital</td>\n",
       "      <td>0.037462</td>\n",
       "    </tr>\n",
       "  </tbody>\n",
       "</table>\n",
       "</div>"
      ],
      "text/plain": [
       "                    0         1\n",
       "0          total_sqft  1.851065\n",
       "1         alley_width  0.004915\n",
       "2            distance -0.026201\n",
       "3    access_to_school  0.163676\n",
       "4  access_to_hospital  0.037462"
      ]
     },
     "execution_count": 24,
     "metadata": {},
     "output_type": "execute_result"
    }
   ],
   "source": [
    "s1 = pd.Series(best_features)\n",
    "s2 = pd.Series(results.params)\n",
    "s3 = pd.concat([s1, s2], axis =1)\n",
    "s3"
   ]
  },
  {
   "cell_type": "markdown",
   "metadata": {
    "id": "cv_o-_lRqclw"
   },
   "source": [
    "## Model\n",
    "Log(SalePrice) = 1.850679*Log(total_sqft) + 0.005466 *alley_width - 0.026513 *distance + 0.164837*access_to_school + 0.054710 * access_to_hospital\n",
    "\n",
    "\n"
   ]
  },
  {
   "cell_type": "code",
   "execution_count": null,
   "metadata": {},
   "outputs": [],
   "source": []
  }
 ],
 "metadata": {
  "colab": {
   "name": "_kr_house_price_predict (2).ipynb",
   "provenance": [],
   "toc_visible": true
  },
  "kernelspec": {
   "display_name": "Python 3",
   "language": "python",
   "name": "python3"
  },
  "language_info": {
   "codemirror_mode": {
    "name": "ipython",
    "version": 3
   },
   "file_extension": ".py",
   "mimetype": "text/x-python",
   "name": "python",
   "nbconvert_exporter": "python",
   "pygments_lexer": "ipython3",
   "version": "3.8.5"
  }
 },
 "nbformat": 4,
 "nbformat_minor": 1
}
